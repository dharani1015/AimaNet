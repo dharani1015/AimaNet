{
  "cells": [
    {
      "cell_type": "markdown",
      "source": [
        "# AIMA Post processing"
      ],
      "metadata": {
        "id": "qkSlgQGUyGsy"
      }
    },
    {
      "cell_type": "code",
      "source": [
        "import cv2\n",
        "\n",
        "vp = \"/content/drive/MyDrive/AIMA/AIMA-DATA/vid_s1_T2.avi\"\n",
        "\n",
        "def check_video(vp):\n",
        "  \n",
        "  print(\"Input:\",vp)\n",
        "  cap = cv2.VideoCapture(vp)\n",
        "  frames = int(cap.get(cv2.CAP_PROP_FRAME_COUNT))\n",
        "  print(\"Number of frames:\", frames )\n",
        "  fps = cap.get(cv2.CAP_PROP_FPS)\n",
        "  print(\"FPS:\",fps)\n",
        "  ts = round(frames/fps, 2)\n",
        "  tm = round((frames/fps) / 60, 2)\n",
        "  print(\"Video Duration (s):\", ts,'seconds')\n",
        "  print(\"Video Duration (m):\", tm,'mins')\n",
        "\n",
        "  return frames, fps, ts\n",
        "\n",
        "frames, fps, ts = check_video(vp)"
      ],
      "metadata": {
        "id": "_JxMfw8E4c9q"
      },
      "execution_count": null,
      "outputs": []
    },
    {
      "cell_type": "code",
      "source": [
        "# input - o1\n",
        "def predict(pulse_pred, fps):\n",
        "\n",
        "  print(\"#\"*30)\n",
        "  with open('/content/hr_o1.npy', 'wb') as f:\n",
        "    np.save(f, np.array(pulse_pred))\n",
        "  print(pulse_pred)\n",
        "  print(\"#\"*30)\n",
        "\n",
        "  pulse_pred = detrend(np.cumsum(pulse_pred), 100)\n",
        "\n",
        "  print(\"#\"*30)\n",
        "  with open('/content/hr_o2.npy', 'wb') as f:\n",
        "    np.save(f, np.array(pulse_pred))\n",
        "  print(pulse_pred)\n",
        "  print(\"#\"*30)\n",
        "\n",
        "  [b_pulse, a_pulse] = butter(1, [0.75 / fps * 2, 2.5 / fps * 2], btype='bandpass')\n",
        "  pulse_pred = scipy.signal.filtfilt(b_pulse, a_pulse, np.double(pulse_pred))\n",
        "\n",
        "  print(\"#\"*30)\n",
        "  with open('/content/hr_o3.npy', 'wb') as f:\n",
        "    np.save(f, np.array(pulse_pred))\n",
        "  print(pulse_pred)\n",
        "  print(\"#\"*30)\n",
        "\n",
        "predict(pulse_pred, fps)"
      ],
      "metadata": {
        "id": "jh1-2aCnyLHq"
      },
      "execution_count": null,
      "outputs": []
    },
    {
      "cell_type": "code",
      "source": [
        "import numpy as np\n",
        "import pandas as pd\n",
        "\n",
        "def numpy_arrs():\n",
        "  with open('/content/hr_o1.npy', 'rb') as f:\n",
        "    o1 = np.load(f)\n",
        "\n",
        "  with open('/content/hr_o2.npy', 'rb') as f2:\n",
        "    o2 = np.load(f2)\n",
        "\n",
        "  with open('/content/hr_o3.npy', 'rb') as f3:\n",
        "    o3 = np.load(f3)\n",
        "\n",
        "  o1_plot = plt.plot(o1)\n",
        "  o3_plot = plt.plot(o3)\n",
        "\n",
        "  df = pd.read_csv('/content/drive/MyDrive/AIMA/AIMA-DATA/bvp_s1_T2.csv')\n",
        "  arr_csv = df.to_numpy()\n",
        "\n",
        "  return o1,o2,o3,arr_csv\n",
        "\n",
        "o1,o2,o3,arr_csv = numpy_arrs()"
      ],
      "metadata": {
        "id": "AzbJYFSV0xs5"
      },
      "execution_count": null,
      "outputs": []
    },
    {
      "cell_type": "code",
      "source": [
        "def get_rfft_hr(signal, fps):\n",
        "\n",
        "  min_freq = 0.9 #\n",
        "  max_freq = 3 #\n",
        "  fft_spec = []\n",
        "  signal_length = len(signal)\n",
        "  signal = signal.flatten()\n",
        "  fft_values = np.fft.rfft(signal) # FFT\n",
        "  fft_magnitudes = np.abs(fft_values)\n",
        "\n",
        "  frequencies = np.fft.rfftfreq(signal_length, 1./fps) # Frequency data\n",
        "\n",
        "  indices = np.where((frequencies < min_freq) | (frequencies > max_freq) )[0]\n",
        "  fft_magnitudes[indices] = 0\n",
        "  bps_freq=60.0*frequencies\n",
        "  max_index = np.argmax(fft_magnitudes)\n",
        "  fft_magnitudes[max_index] = fft_magnitudes[max_index]**2\n",
        "  fft_spec.append(fft_magnitudes)\n",
        "  HR =  bps_freq[max_index]\n",
        "\n",
        "  return HR\n",
        "\n",
        "heart_rate_vid = get_rfft_hr(o3, fps)\n",
        "heart_rate_csv = get_rfft_hr(arr_csv, fps)\n",
        "print(\"heart_rate_video:\", heart_rate_vid)\n",
        "print(\"heart_rate_csv:\", heart_rate_csv)"
      ],
      "metadata": {
        "id": "CCjqu1c42hg9"
      },
      "execution_count": null,
      "outputs": []
    }
  ],
  "metadata": {
    "accelerator": "GPU",
    "colab": {
      "provenance": []
    },
    "gpuClass": "standard",
    "kernelspec": {
      "display_name": "Python 3",
      "name": "python3"
    },
    "language_info": {
      "name": "python"
    }
  },
  "nbformat": 4,
  "nbformat_minor": 0
}
